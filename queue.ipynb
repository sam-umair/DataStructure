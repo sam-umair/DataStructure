{
 "cells": [
  {
   "cell_type": "markdown",
   "id": "108588ec",
   "metadata": {},
   "source": [
    "# Queue"
   ]
  },
  {
   "cell_type": "markdown",
   "id": "fb5183a5",
   "metadata": {},
   "source": [
    "### Definition\n",
    "#### \"A Queue is a data structure that follows the First In, First Out (FIFO) principle. This means that the first element added to the queue will be the first one to be removed\".\n",
    "\n",
    "##### In simpler terms, imagine a line at a ticket counter. The first person in line will be the first one to get their ticket and leave, while the person who arrives last will have to wait until everyone in front of them is served."
   ]
  },
  {
   "cell_type": "markdown",
   "id": "68d69ec1",
   "metadata": {},
   "source": [
    "### How it works in Python\n",
    "##### You can implement a queue using a list or use the queue module, which provides a Queue class specifically designed for this purpose."
   ]
  },
  {
   "cell_type": "markdown",
   "id": "6b296e72",
   "metadata": {},
   "source": [
    "### Key Operations in a Queue:\n",
    "#### 1- Enqueue (Adding elements): Use append() with lists or put() with the Queue class.\n",
    "\n",
    "#### 2- Dequeue (Removing elements): Use pop(0) with lists or get() with the Queue class.\n",
    "\n",
    "#### 3- Peek (Look at the first element): You can access the first item with queue[0] in a list (but don't remove it)."
   ]
  },
  {
   "cell_type": "markdown",
   "id": "544f138d",
   "metadata": {},
   "source": [
    "## Example\n",
    "\n",
    "#### Using List\n"
   ]
  },
  {
   "cell_type": "code",
   "execution_count": 3,
   "id": "d7de15e9",
   "metadata": {},
   "outputs": [
    {
     "name": "stdout",
     "output_type": "stream",
     "text": [
      "Queue after enqueue operations: [10, 20, 30]\n",
      "Dequeued item: 10\n",
      "Queue after dequeue operation: [20, 30]\n"
     ]
    }
   ],
   "source": [
    "# Initialize a queue as an empty list\n",
    "queue = []\n",
    "\n",
    "# Adding elements (enqueue operation)\n",
    "queue.append(10)  # 10 is added to the queue\n",
    "queue.append(20)  # 20 is added to the queue\n",
    "queue.append(30)  # 30 is added to the queue\n",
    "\n",
    "print(\"Queue after enqueue operations:\", queue)\n",
    "\n",
    "# Removing elements (dequeue operation)\n",
    "first_item = queue.pop(0)  # Removes the first item, which is 10\n",
    "print(\"Dequeued item:\", first_item)\n",
    "print(\"Queue after dequeue operation:\", queue)\n"
   ]
  },
  {
   "cell_type": "markdown",
   "id": "efbf4523",
   "metadata": {},
   "source": [
    "### Using Python's queue.Queue class"
   ]
  },
  {
   "cell_type": "code",
   "execution_count": 4,
   "id": "24aaa482",
   "metadata": {},
   "outputs": [
    {
     "name": "stdout",
     "output_type": "stream",
     "text": [
      "Queue size: 3\n",
      "Dequeued item: 10\n",
      "Queue size after dequeue: 2\n"
     ]
    }
   ],
   "source": [
    "import queue\n",
    "\n",
    "# Create a Queue object\n",
    "q = queue.Queue()\n",
    "\n",
    "# Adding elements (enqueue operation)\n",
    "q.put(10)\n",
    "q.put(20)\n",
    "q.put(30)\n",
    "\n",
    "print(\"Queue size:\", q.qsize())\n",
    "\n",
    "# Removing elements (dequeue operation)\n",
    "first_item = q.get()  # Removes the first item, which is 10\n",
    "print(\"Dequeued item:\", first_item)\n",
    "\n",
    "# Checking the size of the queue after dequeue operation\n",
    "print(\"Queue size after dequeue:\", q.qsize())\n"
   ]
  },
  {
   "cell_type": "markdown",
   "id": "cbf76426",
   "metadata": {},
   "source": [
    "### Real-life Example:\n"
   ]
  },
  {
   "cell_type": "code",
   "execution_count": 2,
   "id": "f8863328",
   "metadata": {},
   "outputs": [
    {
     "name": "stdout",
     "output_type": "stream",
     "text": [
      "Person A has been served.\n"
     ]
    }
   ],
   "source": [
    "# People are served in the order they arrive.\n",
    "from collections import deque\n",
    "\n",
    "bank_line = deque()\n",
    "\n",
    "# People entering the line\n",
    "bank_line.append(\"Person A\")\n",
    "bank_line.append(\"Person B\")\n",
    "bank_line.append(\"Person C\")\n",
    "\n",
    "# First person gets served\n",
    "served = bank_line.popleft()\n",
    "print(served, \"has been served.\")\n"
   ]
  },
  {
   "cell_type": "code",
   "execution_count": 5,
   "id": "4077493a",
   "metadata": {},
   "outputs": [
    {
     "name": "stdout",
     "output_type": "stream",
     "text": [
      "Now serving: Customer 1\n",
      "Now serving: Customer 2\n",
      "Now serving: Customer 3\n"
     ]
    }
   ],
   "source": [
    "#  Customer Service Line (Call Center)\n",
    "\n",
    "import queue\n",
    "\n",
    "# Simulate a call center with a queue\n",
    "call_center = queue.Queue()\n",
    "\n",
    "# Customers calling into the support center (enqueue operation)\n",
    "call_center.put(\"Customer 1\")\n",
    "call_center.put(\"Customer 2\")\n",
    "call_center.put(\"Customer 3\")\n",
    "\n",
    "# Handling the calls (dequeue operation)\n",
    "first_customer = call_center.get()\n",
    "print(f\"Now serving: {first_customer}\")\n",
    "\n",
    "second_customer = call_center.get()\n",
    "print(f\"Now serving: {second_customer}\")\n",
    "\n",
    "# Checking remaining customers in the queue\n",
    "remaining_customer = call_center.get()\n",
    "print(f\"Now serving: {remaining_customer}\")\n"
   ]
  },
  {
   "cell_type": "code",
   "execution_count": 6,
   "id": "0ff46e29",
   "metadata": {},
   "outputs": [
    {
     "name": "stdout",
     "output_type": "stream",
     "text": [
      "Printing: Document 1\n",
      "Printing: Document 2\n",
      "Printing: Document 3\n"
     ]
    }
   ],
   "source": [
    "# Printing jobs in a printer queue\n",
    "\n",
    "import queue\n",
    "\n",
    "printer_queue = queue.Queue()\n",
    "\n",
    "# Users sending print jobs to the printer (enqueue operation)\n",
    "printer_queue.put(\"Document 1\")\n",
    "printer_queue.put(\"Document 2\")\n",
    "printer_queue.put(\"Document 3\")\n",
    "\n",
    "# Printer processing the jobs (dequeue operation)\n",
    "print_job = printer_queue.get()\n",
    "print(f\"Printing: {print_job}\")\n",
    "\n",
    "print_job = printer_queue.get()\n",
    "print(f\"Printing: {print_job}\")\n",
    "\n",
    "# Check the remaining print job in the queue\n",
    "print_job = printer_queue.get()\n",
    "print(f\"Printing: {print_job}\")\n",
    "\n"
   ]
  },
  {
   "cell_type": "code",
   "execution_count": null,
   "id": "7d46062d",
   "metadata": {},
   "outputs": [],
   "source": []
  }
 ],
 "metadata": {
  "kernelspec": {
   "display_name": "Python 3",
   "language": "python",
   "name": "python3"
  },
  "language_info": {
   "codemirror_mode": {
    "name": "ipython",
    "version": 3
   },
   "file_extension": ".py",
   "mimetype": "text/x-python",
   "name": "python",
   "nbconvert_exporter": "python",
   "pygments_lexer": "ipython3",
   "version": "3.11.9"
  }
 },
 "nbformat": 4,
 "nbformat_minor": 5
}

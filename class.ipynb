{
 "cells": [
  {
   "cell_type": "code",
   "execution_count": 1,
   "metadata": {},
   "outputs": [
    {
     "name": "stdout",
     "output_type": "stream",
     "text": [
      "Tom Joe is treating patients.\n",
      "Tom Joe says how are you?\n",
      "Maria is teaching students.\n",
      "Maria says how are you?\n"
     ]
    }
   ],
   "source": [
    "class Human:\n",
    "    def __init__ (self, n, a, o):\n",
    "        self.name = n\n",
    "        self.age = a\n",
    "        self.occupation = o\n",
    "        \n",
    "    def do_work(self):\n",
    "        if self.occupation == \"doctor\":\n",
    "            print(self.name, \"is treating patients.\")\n",
    "        elif self.occupation == \"teacher\":\n",
    "            print(self.name, \"is teaching students.\")\n",
    "    \n",
    "    def speaks(self):\n",
    "        print(self.name, \"says how are you?\")\n",
    "\n",
    "tom = Human(\"Tom Joe\", 30, \"doctor\") \n",
    "tom.do_work()\n",
    "tom.speaks()\n",
    "\n",
    "maria = Human(\"Maria\", 25, \"teacher\")\n",
    "maria.do_work()\n",
    "maria.speaks()\n"
   ]
  },
  {
   "cell_type": "code",
   "execution_count": null,
   "metadata": {},
   "outputs": [],
   "source": []
  },
  {
   "cell_type": "code",
   "execution_count": null,
   "metadata": {},
   "outputs": [],
   "source": []
  }
 ],
 "metadata": {
  "kernelspec": {
   "display_name": "Python 3",
   "language": "python",
   "name": "python3"
  },
  "language_info": {
   "codemirror_mode": {
    "name": "ipython",
    "version": 3
   },
   "file_extension": ".py",
   "mimetype": "text/x-python",
   "name": "python",
   "nbconvert_exporter": "python",
   "pygments_lexer": "ipython3",
   "version": "3.11.9"
  }
 },
 "nbformat": 4,
 "nbformat_minor": 2
}

{
 "cells": [
  {
   "cell_type": "markdown",
   "metadata": {},
   "source": [
    "## Generators\n",
    "#### A generator is a function that uses the yield keyword instead of return. Each time the generator is called, execution resumes right after the last yield."
   ]
  },
  {
   "cell_type": "markdown",
   "metadata": {},
   "source": [
    "##### Why Use Generators?\n",
    "Memory-efficient: Don’t store the entire sequence in memory.\n",
    "\n",
    "Lazy evaluation: Compute values on the fly.\n",
    "\n",
    "Cleaner syntax: Easier than creating an iterator class."
   ]
  },
  {
   "cell_type": "code",
   "execution_count": 5,
   "metadata": {},
   "outputs": [
    {
     "name": "stdout",
     "output_type": "stream",
     "text": [
      "1\n",
      "2\n",
      "3\n",
      "4\n",
      "5\n"
     ]
    }
   ],
   "source": [
    "#Simple generator function\n",
    "def count_up_to(n):\n",
    "    count = 1\n",
    "    while count <= n:\n",
    "        yield count\n",
    "        count += 1\n",
    "        \n",
    "for num in count_up_to(5):\n",
    "    print(num)\n",
    "\n"
   ]
  },
  {
   "cell_type": "code",
   "execution_count": 3,
   "metadata": {},
   "outputs": [
    {
     "name": "stdout",
     "output_type": "stream",
     "text": [
      "0\n",
      "1\n",
      "1\n",
      "2\n",
      "3\n",
      "5\n",
      "8\n",
      "13\n",
      "21\n",
      "34\n"
     ]
    }
   ],
   "source": [
    "# Fibonacci sequence generator\n",
    "def fib():\n",
    "    a,b = 0,1\n",
    "    while True:\n",
    "        yield a\n",
    "        a,b = b,a+b\n",
    "for f in fib():\n",
    "    if f > 50:\n",
    "        break\n",
    "    print(f)\n",
    "    "
   ]
  },
  {
   "cell_type": "code",
   "execution_count": 6,
   "metadata": {},
   "outputs": [
    {
     "name": "stdout",
     "output_type": "stream",
     "text": [
      "0\n",
      "1\n",
      "4\n",
      "9\n",
      "16\n"
     ]
    }
   ],
   "source": [
    "squares = (x * x for x in range(5))\n",
    "for square in squares:\n",
    "    print(square)\n"
   ]
  },
  {
   "cell_type": "code",
   "execution_count": 2,
   "metadata": {},
   "outputs": [
    {
     "name": "stdout",
     "output_type": "stream",
     "text": [
      "[0, 1, 1, 2, 3, 5, 8, 13, 21, 34]\n"
     ]
    }
   ],
   "source": [
    "def finonacci(n):\n",
    "    a,b = 0,1\n",
    "    for _ in range(n):\n",
    "        yield a\n",
    "        a,b = b,a+b\n",
    "print(list(finonacci(10)))"
   ]
  },
  {
   "cell_type": "code",
   "execution_count": 4,
   "metadata": {},
   "outputs": [
    {
     "name": "stdout",
     "output_type": "stream",
     "text": [
      "[0, 1, 1, 4, 9, 25, 64, 169, 441, 1156]\n"
     ]
    }
   ],
   "source": [
    "def fibonacci_with_squares(n):\n",
    "    a, b = 0, 1\n",
    "    for _ in range(n):\n",
    "        yield a * a\n",
    "        a, b = b, a + b\n",
    "print(list(fibonacci_with_squares(10)))"
   ]
  },
  {
   "cell_type": "code",
   "execution_count": 6,
   "metadata": {},
   "outputs": [
    {
     "name": "stdout",
     "output_type": "stream",
     "text": [
      "Fibonacci: 0, Square: 0\n",
      "Fibonacci: 1, Square: 1\n",
      "Fibonacci: 1, Square: 1\n",
      "Fibonacci: 2, Square: 4\n",
      "Fibonacci: 3, Square: 9\n",
      "Fibonacci: 5, Square: 25\n",
      "Fibonacci: 8, Square: 64\n",
      "Fibonacci: 13, Square: 169\n",
      "Fibonacci: 21, Square: 441\n",
      "Fibonacci: 34, Square: 1156\n"
     ]
    }
   ],
   "source": [
    "def fibonacci_with_square(limit):\n",
    "    a, b = 0, 1\n",
    "    for _ in range(limit):\n",
    "        yield a, a**2\n",
    "        a, b = b, a + b\n",
    "\n",
    "for fib, square in fibonacci_with_square(10):\n",
    "    print(f\"Fibonacci: {fib}, Square: {square}\")\n"
   ]
  },
  {
   "cell_type": "code",
   "execution_count": 15,
   "metadata": {},
   "outputs": [
    {
     "name": "stdout",
     "output_type": "stream",
     "text": [
      "0\n",
      "1 1\n",
      "1\n",
      "1 2\n",
      "1\n",
      "2 3\n",
      "2\n",
      "3 5\n",
      "3\n",
      "5 8\n",
      "5\n",
      "8 13\n",
      "8\n",
      "13 21\n",
      "13\n",
      "21 34\n",
      "21\n",
      "34 55\n",
      "34\n",
      "55 89\n",
      "End of Fibonacci sequence\n"
     ]
    }
   ],
   "source": [
    "def fib(n):\n",
    "    a,b = 0,1\n",
    "    for _ in range(n):\n",
    "        yield a\n",
    "        a,b = b , a+b\n",
    "        print(a,b)\n",
    "    print(\"End of Fibonacci sequence\")\n",
    "for num in fib(10):\n",
    "    print(num)"
   ]
  },
  {
   "cell_type": "code",
   "execution_count": null,
   "metadata": {},
   "outputs": [],
   "source": []
  }
 ],
 "metadata": {
  "kernelspec": {
   "display_name": "Python 3",
   "language": "python",
   "name": "python3"
  },
  "language_info": {
   "codemirror_mode": {
    "name": "ipython",
    "version": 3
   },
   "file_extension": ".py",
   "mimetype": "text/x-python",
   "name": "python",
   "nbconvert_exporter": "python",
   "pygments_lexer": "ipython3",
   "version": "3.11.9"
  }
 },
 "nbformat": 4,
 "nbformat_minor": 2
}

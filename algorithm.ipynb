{
 "cells": [
  {
   "cell_type": "markdown",
   "id": "9fb13345",
   "metadata": {},
   "source": [
    " #### 1. Binary Search\n",
    "##### Simple Definition:\n",
    "#### Search in a sorted list by repeatedly dividing it in half."
   ]
  },
  {
   "cell_type": "markdown",
   "id": "27374912",
   "metadata": {},
   "source": [
    "Real-Life Example:\n",
    "Looking for a name in a phone book.\n",
    "You open to the middle, see if the name is before or after, and keep halving."
   ]
  },
  {
   "cell_type": "code",
   "execution_count": 2,
   "id": "f0f4e47f",
   "metadata": {},
   "outputs": [
    {
     "name": "stdout",
     "output_type": "stream",
     "text": [
      "2\n"
     ]
    }
   ],
   "source": [
    "def binary_search(arr,target):\n",
    "    low = 0\n",
    "    high = len(arr) - 1\n",
    "    while low <= high:\n",
    "        mid = (low + high) // 2\n",
    "        if arr[mid] == target:\n",
    "            return mid\n",
    "        elif arr[mid] < target:\n",
    "            low = mid + 1\n",
    "        else:\n",
    "            high = mid - 1\n",
    "            \n",
    "    return -1\n",
    "print(binary_search([1,3,5,7,9],5))"
   ]
  },
  {
   "cell_type": "markdown",
   "id": "29cc7f38",
   "metadata": {},
   "source": [
    "#### 2. Bubble Sort\n",
    "##### Simple Definition:\n",
    "#### Compare each pair of items and swap if out of order. Repeat until sorted."
   ]
  },
  {
   "cell_type": "code",
   "execution_count": 3,
   "id": "742318b0",
   "metadata": {},
   "outputs": [
    {
     "name": "stdout",
     "output_type": "stream",
     "text": [
      "[2, 3, 5, 6, 8]\n"
     ]
    }
   ],
   "source": [
    "#Real-Life Example:\n",
    "#Sorting a list of students by height, one pair at a time.\n",
    "#\"You compare 2 people. If the shorter one is behind the taller, they switch spots.\"\n",
    "\n",
    "def bubble_sort(arr):\n",
    "    n = len(arr)\n",
    "    for i in range(n):\n",
    "        for j in range(0, n-i-1):  #Avoid rechaking sorted elements\n",
    "            if arr[j] > arr[j+1]:\n",
    "                arr[j], arr[j+1] = arr[j+1], arr[j]    #swap\n",
    "    return arr\n",
    "\n",
    "print(bubble_sort([5,3,8,6,2]))"
   ]
  },
  {
   "cell_type": "markdown",
   "id": "15547440",
   "metadata": {},
   "source": [
    "#### 3. Quick Sort\n",
    "##### Simple Definition:\n",
    "#### Pick a pivot, then put smaller items on one side, bigger on the other. Sort each side recursively."
   ]
  },
  {
   "cell_type": "code",
   "execution_count": 4,
   "id": "2038770d",
   "metadata": {},
   "outputs": [
    {
     "name": "stdout",
     "output_type": "stream",
     "text": [
      "[2, 3, 4, 5, 8]\n"
     ]
    }
   ],
   "source": [
    "#Real-Life Example:\n",
    "#Organizing a deck of cards around one card (pivot), like:\n",
    "#\"Everything smaller to the left, bigger to the right.\"\n",
    "\n",
    "def quick_sort(arr):\n",
    "    if len(arr) <= 1:\n",
    "        return arr\n",
    "    pivot = arr[0]\n",
    "    less = [x for x in arr[1:] if x < pivot]\n",
    "    greater = [x for x in arr[1:] if x >= pivot]\n",
    "    return quick_sort(less) + [pivot] + quick_sort(greater)\n",
    "\n",
    "print(quick_sort([5, 3, 8, 4, 2]))  # Output: [2, 3, 4, 5, 8]\n",
    "\n"
   ]
  },
  {
   "cell_type": "markdown",
   "id": "872bf783",
   "metadata": {},
   "source": [
    "#### 4. Merge Sort\n",
    "##### Simple Definition:\n",
    "#### Split the list in half until it’s tiny, then merge sorted parts."
   ]
  },
  {
   "cell_type": "code",
   "execution_count": 5,
   "id": "7065015c",
   "metadata": {},
   "outputs": [
    {
     "name": "stdout",
     "output_type": "stream",
     "text": [
      "[2, 3, 4, 5, 8]\n"
     ]
    }
   ],
   "source": [
    "#Real-Life Example:\n",
    "#Dividing a deck of cards into piles, sorting each, then merging.\n",
    "\n",
    "#\"You and your friend sort half each, then combine your sorted halves.\"\n",
    "\n",
    "def merge_sort(arr):\n",
    "    if len(arr) <= 1:\n",
    "        return arr\n",
    "\n",
    "    mid = len(arr) // 2\n",
    "    left = merge_sort(arr[:mid])\n",
    "    right = merge_sort(arr[mid:])\n",
    "\n",
    "    return merge(left, right)\n",
    "\n",
    "def merge(left, right):\n",
    "    result = []\n",
    "    i = j = 0\n",
    "\n",
    "    # Merge sorted halves\n",
    "    while i < len(left) and j < len(right):\n",
    "        if left[i] < right[j]:\n",
    "            result.append(left[i])\n",
    "            i += 1\n",
    "        else:\n",
    "            result.append(right[j])\n",
    "            j += 1\n",
    "\n",
    "    result += left[i:]\n",
    "    result += right[j:]\n",
    "    return result\n",
    "\n",
    "print(merge_sort([5, 3, 8, 4, 2]))  # Output: [2, 3, 4, 5, 8]\n"
   ]
  },
  {
   "cell_type": "code",
   "execution_count": null,
   "id": "20bb1e49",
   "metadata": {},
   "outputs": [],
   "source": []
  }
 ],
 "metadata": {
  "kernelspec": {
   "display_name": "Python 3",
   "language": "python",
   "name": "python3"
  },
  "language_info": {
   "codemirror_mode": {
    "name": "ipython",
    "version": 3
   },
   "file_extension": ".py",
   "mimetype": "text/x-python",
   "name": "python",
   "nbconvert_exporter": "python",
   "pygments_lexer": "ipython3",
   "version": "3.11.9"
  }
 },
 "nbformat": 4,
 "nbformat_minor": 5
}

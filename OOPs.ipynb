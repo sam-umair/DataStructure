{
 "cells": [
  {
   "cell_type": "markdown",
   "id": "c2c2ee47",
   "metadata": {},
   "source": [
    "# OOP (Object-Oriented Programming) \n",
    "### is a programming paradigm that organizes code into \"objects,\" which are instances of classes. It emphasizes the use of objects and classes, and the key principles include:\n",
    "\n",
    "#### Classes and Objects:\n",
    "\n",
    "A class is a blueprint or template for creating objects. It defines a set of attributes (variables) and methods (functions) that the objects created from the class will have.\n",
    "\n",
    "An object is an instance of a class. It contains the actual data and can use the methods defined in the class.\n",
    "\n",
    "#### Encapsulation:\n",
    "\n",
    "This principle involves bundling the data (attributes) and the methods that operate on the data into a single unit called a class. It also restricts direct access to some of the object's components to prevent unintended interference and misuse. Private attributes or methods can be used for this.\n",
    "\n",
    "#### Inheritance:\n",
    "\n",
    "Inheritance allows a class (child class) to inherit the attributes and methods from another class (parent class). This helps in reusing code and extending the functionality of an existing class.\n",
    "\n",
    "#### Polymorphism:\n",
    "\n",
    "Polymorphism allows methods to have the same name but behave differently depending on the context. For example, a method in the parent class can be overridden by a method in the child class, allowing for more specific behavior.\n",
    "\n",
    "#### Abstraction:\n",
    "\n",
    "Abstraction hides the complex implementation details and shows only the essential features of an object. This allows programmers to work with objects at a higher level and focus on what they do, not how they do it."
   ]
  },
  {
   "cell_type": "markdown",
   "id": "58040571",
   "metadata": {},
   "source": [
    "#### Basic Concepts of OOP:\n",
    "#### 1. Class – Template or Blueprint"
   ]
  },
  {
   "cell_type": "code",
   "execution_count": 1,
   "id": "e46a15b7",
   "metadata": {},
   "outputs": [],
   "source": [
    "class Car:\n",
    "    def __init__(self, color):\n",
    "        self.color = color\n"
   ]
  },
  {
   "cell_type": "markdown",
   "id": "a59ee83a",
   "metadata": {},
   "source": [
    "#### 2. Object"
   ]
  },
  {
   "cell_type": "code",
   "execution_count": 2,
   "id": "3e408507",
   "metadata": {},
   "outputs": [
    {
     "name": "stdout",
     "output_type": "stream",
     "text": [
      "red\n"
     ]
    }
   ],
   "source": [
    "my_car = Car(\"red\")\n",
    "print(my_car.color)\n"
   ]
  },
  {
   "cell_type": "markdown",
   "id": "9bf5d0f1",
   "metadata": {},
   "source": [
    "#### 3. Inheritance"
   ]
  },
  {
   "cell_type": "code",
   "execution_count": 3,
   "id": "13d69509",
   "metadata": {},
   "outputs": [],
   "source": [
    "class Animal:\n",
    "    def speak(self):\n",
    "        print(\"Animal speaks\")\n",
    "\n",
    "class Dog(Animal):\n",
    "    pass\n"
   ]
  },
  {
   "cell_type": "markdown",
   "id": "f94db57c",
   "metadata": {},
   "source": [
    "#### 4. Polymorphism"
   ]
  },
  {
   "cell_type": "code",
   "execution_count": 4,
   "id": "cf7ba313",
   "metadata": {},
   "outputs": [],
   "source": [
    "class Cat:\n",
    "    def sound(self):\n",
    "        print(\"Meow\")\n",
    "\n",
    "class Dog:\n",
    "    def sound(self):\n",
    "        print(\"Bark\")\n"
   ]
  },
  {
   "cell_type": "code",
   "execution_count": null,
   "id": "e3a5e993",
   "metadata": {},
   "outputs": [],
   "source": []
  }
 ],
 "metadata": {
  "kernelspec": {
   "display_name": "Python 3",
   "language": "python",
   "name": "python3"
  },
  "language_info": {
   "codemirror_mode": {
    "name": "ipython",
    "version": 3
   },
   "file_extension": ".py",
   "mimetype": "text/x-python",
   "name": "python",
   "nbconvert_exporter": "python",
   "pygments_lexer": "ipython3",
   "version": "3.11.9"
  }
 },
 "nbformat": 4,
 "nbformat_minor": 5
}

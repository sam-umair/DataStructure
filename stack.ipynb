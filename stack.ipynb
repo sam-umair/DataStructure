{
 "cells": [
  {
   "cell_type": "markdown",
   "id": "ceffc84e",
   "metadata": {},
   "source": [
    "# Stack\n",
    "## Simple Definition:\n",
    "## A stack is a linear data structure that follows the LIFO principle:\n",
    "\n",
    "## Last In, First Out\n",
    "\n",
    "### This means that the last item added to the stack is the first one removed.\n",
    "\n",
    "### You can think of it like a stack of plates:\n",
    "\n",
    "### You add plates on top (push).\n",
    "\n",
    "### You remove plates from the top (pop).\n",
    "\n",
    "\n",
    "\n",
    "#### Stack ek aisi list hai jisme Last In, First Out (LIFO) ka rule hota hai.\n",
    "#### Jo cheez last mein daali jaati hai, woh pehle nikalti hai — jaise plates ka stack."
   ]
  },
  {
   "cell_type": "markdown",
   "id": "1e870f47",
   "metadata": {},
   "source": [
    "#### Key Operations:\n",
    "##### push(item) → Add item to the top\n",
    "\n",
    "##### pop() → Remove and return the top item\n",
    "\n",
    "##### peek() → See the top item without removing (optional)\n",
    "\n",
    "##### is_empty() → Check if stack is empty"
   ]
  },
  {
   "cell_type": "code",
   "execution_count": 4,
   "id": "e6b2c441",
   "metadata": {},
   "outputs": [
    {
     "name": "stdout",
     "output_type": "stream",
     "text": [
      "Going back to: wikipedia.org\n"
     ]
    }
   ],
   "source": [
    "# Back Button in Web Browser\n",
    "# Each time you visit a new site, it's added to a stack. Pressing \"back\" pops the last visited page\n",
    "\n",
    "browser_history = []\n",
    "\n",
    "# Visiting pages\n",
    "browser_history.append(\"google.com\")\n",
    "browser_history.append(\"youtube.com\")\n",
    "browser_history.append(\"wikipedia.org\")\n",
    "\n",
    "# Going back\n",
    "last_page = browser_history.pop()\n",
    "print(\"Going back to:\", last_page)\n"
   ]
  },
  {
   "cell_type": "code",
   "execution_count": 5,
   "id": "a1c3a11f",
   "metadata": {},
   "outputs": [
    {
     "name": "stdout",
     "output_type": "stream",
     "text": [
      "Picked up: Plate 3\n"
     ]
    }
   ],
   "source": [
    "# Stacking Dishes in a Cafeteria\n",
    "# You place dishes one by one, and remove from the top only.\n",
    "\n",
    "dish_stack = []\n",
    "\n",
    "# Adding dishes\n",
    "dish_stack.append(\"Plate 1\")\n",
    "dish_stack.append(\"Plate 2\")\n",
    "dish_stack.append(\"Plate 3\")\n",
    "\n",
    "# Take one\n",
    "taken_dish = dish_stack.pop()\n",
    "print(\"Picked up:\", taken_dish)\n"
   ]
  },
  {
   "cell_type": "code",
   "execution_count": 6,
   "id": "8ceae4b0",
   "metadata": {},
   "outputs": [
    {
     "name": "stdout",
     "output_type": "stream",
     "text": [
      "Current position: Up\n"
     ]
    }
   ],
   "source": [
    "# Backtracking in Maze Game\n",
    "# Every move you make is stored. If you hit a dead end, you backtrack (pop) to the last step.\n",
    "\n",
    "path_stack = []\n",
    "\n",
    "# Moving through maze\n",
    "path_stack.append(\"Start\")\n",
    "path_stack.append(\"Right\")\n",
    "path_stack.append(\"Up\")\n",
    "path_stack.append(\"Dead End\")\n",
    "\n",
    "# Backtrack\n",
    "path_stack.pop()  # Remove Dead End\n",
    "print(\"Current position:\", path_stack[-1])\n"
   ]
  },
  {
   "cell_type": "code",
   "execution_count": 7,
   "id": "13db0eb9",
   "metadata": {},
   "outputs": [
    {
     "name": "stdout",
     "output_type": "stream",
     "text": [
      "Rod A: [3, 2]\n",
      "Rod C: [1]\n"
     ]
    }
   ],
   "source": [
    "# Tower of Hanoi (Puzzle Game Logic)\n",
    "# This classic puzzle uses stacks to represent towers.\n",
    "\n",
    "# Each rod is a stack\n",
    "rod_A = [3, 2, 1]  # Disks from bottom to top\n",
    "rod_B = []\n",
    "rod_C = []\n",
    "\n",
    "# Move top disk from rod A to rod C\n",
    "disk = rod_A.pop()\n",
    "rod_C.append(disk)\n",
    "\n",
    "print(\"Rod A:\", rod_A)\n",
    "print(\"Rod C:\", rod_C)\n"
   ]
  },
  {
   "cell_type": "code",
   "execution_count": 8,
   "id": "d51a5b23",
   "metadata": {},
   "outputs": [
    {
     "name": "stdout",
     "output_type": "stream",
     "text": [
      "Undoing: Deleted 'World'\n"
     ]
    }
   ],
   "source": [
    "# Undo Feature in Text Editor\n",
    "# When you press Ctrl + Z, it undoes the last thing you typed.\n",
    "\n",
    "actions = []\n",
    "\n",
    "# Typing text\n",
    "actions.append(\"Typed 'Hello'\")\n",
    "actions.append(\"Typed 'World'\")\n",
    "actions.append(\"Deleted 'World'\")\n",
    "\n",
    "# Undo last action\n",
    "last_action = actions.pop()\n",
    "print(\"Undoing:\", last_action)\n",
    "\n"
   ]
  },
  {
   "cell_type": "code",
   "execution_count": 2,
   "id": "98bd835d",
   "metadata": {},
   "outputs": [
    {
     "name": "stdout",
     "output_type": "stream",
     "text": [
      "Item 2\n"
     ]
    }
   ],
   "source": [
    "stack = []\n",
    "stack.append(\"Item 1\")  # Push\n",
    "stack.append(\"Item 2\")\n",
    "print(stack.pop())      # Pop → Output: Item 2\n"
   ]
  }
 ],
 "metadata": {
  "kernelspec": {
   "display_name": "Python 3",
   "language": "python",
   "name": "python3"
  },
  "language_info": {
   "codemirror_mode": {
    "name": "ipython",
    "version": 3
   },
   "file_extension": ".py",
   "mimetype": "text/x-python",
   "name": "python",
   "nbconvert_exporter": "python",
   "pygments_lexer": "ipython3",
   "version": "3.11.9"
  }
 },
 "nbformat": 4,
 "nbformat_minor": 5
}

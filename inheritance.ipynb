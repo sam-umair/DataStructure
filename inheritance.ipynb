{
 "cells": [
  {
   "cell_type": "markdown",
   "metadata": {},
   "source": [
    "## Inheritance benefits\n",
    "##### 1- Code Resuse\n",
    "##### 2- Extensibility\n",
    "##### 3- Readability"
   ]
  },
  {
   "cell_type": "code",
   "execution_count": 4,
   "metadata": {},
   "outputs": [
    {
     "name": "stdout",
     "output_type": "stream",
     "text": [
      "Iam car\n",
      "general use: transportation\n",
      "specific use: personal transport, family trips, etc.\n",
      "Iam motorcycle\n",
      "general use: transportation\n",
      "specific use: road trip using motorcycle\n"
     ]
    }
   ],
   "source": [
    "class Vehicle:\n",
    "    def general_usage(self):\n",
    "        print(\"general use: transportation\")\n",
    "        \n",
    "class Car(Vehicle):\n",
    "    def __init__(self):\n",
    "        print(\"Iam car\")\n",
    "        self.wheels = 4\n",
    "        self.has_roof = True\n",
    "        \n",
    "    def specific_usage(self):\n",
    "        self.general_usage()\n",
    "        print(\"specific use: personal transport, family trips, etc.\")\n",
    "        \n",
    "class MotorCycle(Vehicle):\n",
    "    def __init__(self):\n",
    "        print(\"Iam motorcycle\")\n",
    "        self.wheels = 2\n",
    "        self.has_roof = False\n",
    "\n",
    "    def specific_usage(self):\n",
    "        self.general_usage()\n",
    "        print(\"specific use: road trip using motorcycle\")\n",
    "\n",
    "c = Car()\n",
    "c.specific_usage()\n",
    "\n",
    "m = MotorCycle()\n",
    "m.specific_usage()\n"
   ]
  },
  {
   "cell_type": "markdown",
   "metadata": {},
   "source": [
    "## Multiple Inheritance"
   ]
  },
  {
   "cell_type": "code",
   "execution_count": 5,
   "metadata": {},
   "outputs": [
    {
     "name": "stdout",
     "output_type": "stream",
     "text": [
      "I enjoy gardening\n",
      "I love cooking\n",
      "I love sports\n"
     ]
    }
   ],
   "source": [
    "class Father():\n",
    "    def gardening(self):\n",
    "        print(\"I enjoy gardening\")\n",
    "        \n",
    "class Mother():\n",
    "    def cooking(self):\n",
    "        print(\"I love cooking\")\n",
    "        \n",
    "class Child(Father, Mother):\n",
    "    def sports(self):\n",
    "        print(\"I love sports\")\n",
    "        \n",
    "c = Child()\n",
    "c.gardening()\n",
    "c.cooking()\n",
    "c.sports()"
   ]
  },
  {
   "cell_type": "code",
   "execution_count": 6,
   "metadata": {},
   "outputs": [
    {
     "name": "stdout",
     "output_type": "stream",
     "text": [
      "I enjoy gardening\n",
      "I love cooking\n",
      "I love sports\n"
     ]
    }
   ],
   "source": [
    "class Father():\n",
    "    def skills(self):\n",
    "        print(\"I enjoy gardening\")\n",
    "        \n",
    "class Mother():\n",
    "    def skills(self):\n",
    "        print(\"I love cooking\")\n",
    "        \n",
    "class Child(Father, Mother):\n",
    "    def skills(self):\n",
    "        Father.skills(self)\n",
    "        Mother.skills(self)\n",
    "        print(\"I love sports\")\n",
    "        \n",
    "c = Child()\n",
    "c.skills()"
   ]
  },
  {
   "cell_type": "code",
   "execution_count": null,
   "metadata": {},
   "outputs": [],
   "source": []
  }
 ],
 "metadata": {
  "kernelspec": {
   "display_name": "Python 3",
   "language": "python",
   "name": "python3"
  },
  "language_info": {
   "codemirror_mode": {
    "name": "ipython",
    "version": 3
   },
   "file_extension": ".py",
   "mimetype": "text/x-python",
   "name": "python",
   "nbconvert_exporter": "python",
   "pygments_lexer": "ipython3",
   "version": "3.11.9"
  }
 },
 "nbformat": 4,
 "nbformat_minor": 2
}

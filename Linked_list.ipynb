{
 "cells": [
  {
   "cell_type": "markdown",
   "id": "d9e37361",
   "metadata": {},
   "source": [
    "# Linked List \n",
    "### A Linked List is a data structure where each element (called a Node) contains:\n",
    "### * Some data\n",
    "### * A pointer/reference to the next node\n",
    "### Unlike arrays/lists in Python, Linked Lists don’t store elements in one block of memory, so insertion/deletion becomes easier and faster in some cases.\n"
   ]
  },
  {
   "cell_type": "markdown",
   "id": "befae3a5",
   "metadata": {},
   "source": [
    "## Types of Linked List\n",
    "### 1. Singly Lined List:\n",
    "#### * Each node points to the next node only\n",
    "#### * One way movement\n",
    "\n",
    "##### Why it’s like a Singly Linked List:\n",
    "##### * Forward-only structure.\n",
    "##### * Perfect for linear tasks — like streaming next episode in order.\n",
    "\n",
    "### 2. Doubly Linked List\n",
    "#### * Each node points to the next and the previous node\n",
    "#### * can move forward and backword\n",
    "\n",
    "##### Why it’s like a Doubly Linked List:\n",
    "##### * Movement in both directions.\n",
    "##### * This is exactly how browser back/forward buttons work."
   ]
  },
  {
   "cell_type": "markdown",
   "id": "096b85f1",
   "metadata": {},
   "source": [
    "### When to use Linked\n",
    " ##### * When frequent insertion/deletions are needed\n",
    " ##### * When memory needs to be efficiently used\n",
    " ##### * When dynamic data structure is more suitable than a fixed size list\n"
   ]
  },
  {
   "cell_type": "markdown",
   "id": "a3886613",
   "metadata": {},
   "source": [
    "# 1- Singly Linked List"
   ]
  },
  {
   "cell_type": "code",
   "execution_count": 3,
   "id": "12f5fa41",
   "metadata": {},
   "outputs": [
    {
     "name": "stdout",
     "output_type": "stream",
     "text": [
      "10 -> 20 -> 30 -> None\n"
     ]
    }
   ],
   "source": [
    "# Singly List\n",
    "\n",
    "class Node:\n",
    "    def __init__(self,data):\n",
    "        self.data = data \n",
    "        self.next = None\n",
    "        \n",
    "class SinglyLinkedList:\n",
    "    def __init__(self):\n",
    "        self.head = None\n",
    "        \n",
    "    def insert(self,data):\n",
    "        new_node = Node(data)\n",
    "        if not self.head:\n",
    "            self.head = new_node\n",
    "        else:\n",
    "            current = self.head\n",
    "            while current.next:\n",
    "                current = current.next\n",
    "            current.next = new_node\n",
    "            \n",
    "    def display(self):\n",
    "        current = self.head\n",
    "        while current:\n",
    "            print(current.data, end=\" -> \")\n",
    "            current = current.next\n",
    "        print(\"None\")\n",
    "        \n",
    "ll = SinglyLinkedList()\n",
    "ll.insert(10)\n",
    "ll.insert(20)\n",
    "ll.insert(30)\n",
    "ll.display()"
   ]
  },
  {
   "cell_type": "markdown",
   "id": "c394aa2a",
   "metadata": {},
   "source": [
    "## Real Life Examples of Singly Linked List"
   ]
  },
  {
   "cell_type": "code",
   "execution_count": 5,
   "id": "f2d6214f",
   "metadata": {},
   "outputs": [
    {
     "name": "stdout",
     "output_type": "stream",
     "text": [
      "Ali → Sara → Hamza → None\n"
     ]
    }
   ],
   "source": [
    "# Singly Lined List --- people in ATM Line\n",
    "class Person:\n",
    "    def __init__(self, name):\n",
    "        self.name = name\n",
    "        self.next = None  # Only forward reference\n",
    "\n",
    "class ATMQueue:\n",
    "    def __init__(self):\n",
    "        self.head = None\n",
    "\n",
    "    def join_queue(self, name):\n",
    "        new_person = Person(name)\n",
    "        if not self.head:\n",
    "            self.head = new_person\n",
    "        else:\n",
    "            current = self.head\n",
    "            while current.next:\n",
    "                current = current.next\n",
    "            current.next = new_person\n",
    "\n",
    "    def show_queue(self):\n",
    "        current = self.head\n",
    "        while current:\n",
    "            print(current.name, end=\" → \")\n",
    "            current = current.next\n",
    "        print(\"None\")\n",
    "\n",
    "# Use case\n",
    "queue = ATMQueue()\n",
    "queue.join_queue(\"Ali\")\n",
    "queue.join_queue(\"Sara\")\n",
    "queue.join_queue(\"Hamza\")\n",
    "queue.show_queue()\n"
   ]
  },
  {
   "cell_type": "code",
   "execution_count": 8,
   "id": "a10a71a4",
   "metadata": {},
   "outputs": [
    {
     "name": "stdout",
     "output_type": "stream",
     "text": [
      "Now playing: Ep 1: The Beginning\n",
      "Now playing: Ep 2: The Twist\n",
      "Now playing: Ep 3: The Finale\n"
     ]
    }
   ],
   "source": [
    "# TV Series Playlist (Only Next Episode)\n",
    "# Episode 1 → Episode 2 → Episode 3 → None\n",
    "# You can only go forward to the next episode.\n",
    "# You can’t go back once you move ahead.\n",
    "class Episode:\n",
    "    def __init__(self, title):\n",
    "        self.title = title\n",
    "        self.next = None\n",
    "\n",
    "class Playlist:\n",
    "    def __init__(self):\n",
    "        self.head = None\n",
    "\n",
    "    def add_episode(self, title):\n",
    "        new_ep = Episode(title)\n",
    "        if not self.head:\n",
    "            self.head = new_ep\n",
    "        else:\n",
    "            current = self.head\n",
    "            while current.next:\n",
    "                current = current.next\n",
    "            current.next = new_ep\n",
    "\n",
    "    def play_all(self):\n",
    "        current = self.head\n",
    "        while current:\n",
    "            print(\"Now playing:\", current.title)\n",
    "            current = current.next\n",
    "\n",
    "# Example\n",
    "playlist = Playlist()\n",
    "playlist.add_episode(\"Ep 1: The Beginning\")\n",
    "playlist.add_episode(\"Ep 2: The Twist\")\n",
    "playlist.add_episode(\"Ep 3: The Finale\")\n",
    "playlist.play_all()\n"
   ]
  },
  {
   "cell_type": "markdown",
   "id": "31eac589",
   "metadata": {},
   "source": [
    "## 2- Doubly Linked List"
   ]
  },
  {
   "cell_type": "code",
   "execution_count": 4,
   "id": "c14f9bdc",
   "metadata": {},
   "outputs": [
    {
     "name": "stdout",
     "output_type": "stream",
     "text": [
      "1 ⇄ 2 ⇄ 3 ⇄ None\n"
     ]
    }
   ],
   "source": [
    "#Doubly Linked List\n",
    "class DNode:\n",
    "    def __init__(self, data):\n",
    "        self.data = data\n",
    "        self.prev = None\n",
    "        self.next = None\n",
    "\n",
    "class DoublyLinkedList:\n",
    "    def __init__(self):\n",
    "        self.head = None\n",
    "\n",
    "    def insert(self, data):\n",
    "        new_node = DNode(data)\n",
    "        if not self.head:\n",
    "            self.head = new_node\n",
    "        else:\n",
    "            current = self.head\n",
    "            while current.next:\n",
    "                current = current.next\n",
    "            current.next = new_node\n",
    "            new_node.prev = current\n",
    "\n",
    "    def display(self):\n",
    "        current = self.head\n",
    "        while current:\n",
    "            print(current.data, end=\" ⇄ \")\n",
    "            current = current.next\n",
    "        print(\"None\")\n",
    "\n",
    "# Use it\n",
    "dll = DoublyLinkedList()\n",
    "dll.insert(1)\n",
    "dll.insert(2)\n",
    "dll.insert(3)\n",
    "dll.display()\n"
   ]
  },
  {
   "cell_type": "markdown",
   "id": "780864cc",
   "metadata": {},
   "source": [
    "## Real life example of Doubly Linked List"
   ]
  },
  {
   "cell_type": "code",
   "execution_count": 6,
   "id": "5785263a",
   "metadata": {},
   "outputs": [
    {
     "name": "stdout",
     "output_type": "stream",
     "text": [
      "[Coach 1] ⇄ [Coach 2] ⇄ [Coach 3] ⇄ None\n"
     ]
    }
   ],
   "source": [
    "# Doubly Linked List -- Train coaches\n",
    "\n",
    "class Coach:\n",
    "    def __init__(self, number):\n",
    "        self.number = number\n",
    "        self.prev = None\n",
    "        self.next = None\n",
    "\n",
    "class Train:\n",
    "    def __init__(self):\n",
    "        self.head = None\n",
    "\n",
    "    def add_coach(self, number):\n",
    "        new_coach = Coach(number)\n",
    "        if not self.head:\n",
    "            self.head = new_coach\n",
    "        else:\n",
    "            current = self.head\n",
    "            while current.next:\n",
    "                current = current.next\n",
    "            current.next = new_coach\n",
    "            new_coach.prev = current\n",
    "\n",
    "    def display_train(self):\n",
    "        current = self.head\n",
    "        while current:\n",
    "            print(f\"[Coach {current.number}]\", end=\" ⇄ \")\n",
    "            current = current.next\n",
    "        print(\"None\")\n",
    "\n",
    "# Use case\n",
    "train = Train()\n",
    "train.add_coach(1)\n",
    "train.add_coach(2)\n",
    "train.add_coach(3)\n",
    "train.display_train()\n"
   ]
  },
  {
   "cell_type": "code",
   "execution_count": 9,
   "id": "0820295b",
   "metadata": {},
   "outputs": [
    {
     "name": "stdout",
     "output_type": "stream",
     "text": [
      "⬅️ Back to: youtube.com\n",
      "⬅️ Back to: google.com\n",
      "➡️ Forward to: youtube.com\n"
     ]
    }
   ],
   "source": [
    "# web browser history (Doubly Linked List)\n",
    "# You can go back to the previous page and forward to the next page.\n",
    "# Example: google.com → youtube.com → wikipedia.org\n",
    "\n",
    "class WebPage:\n",
    "    def __init__(self, url):\n",
    "        self.url = url\n",
    "        self.prev = None\n",
    "        self.next = None\n",
    "\n",
    "class BrowserHistory:\n",
    "    def __init__(self):\n",
    "        self.current = None\n",
    "\n",
    "    def visit(self, url):\n",
    "        new_page = WebPage(url)\n",
    "        if self.current:\n",
    "            self.current.next = new_page\n",
    "            new_page.prev = self.current\n",
    "        self.current = new_page\n",
    "\n",
    "    def back(self):\n",
    "        if self.current and self.current.prev:\n",
    "            self.current = self.current.prev\n",
    "            print(\"⬅️ Back to:\", self.current.url)\n",
    "        else:\n",
    "            print(\"🚫 No previous page.\")\n",
    "\n",
    "    def forward(self):\n",
    "        if self.current and self.current.next:\n",
    "            self.current = self.current.next\n",
    "            print(\"➡️ Forward to:\", self.current.url)\n",
    "        else:\n",
    "            print(\"🚫 No forward page.\")\n",
    "\n",
    "# Example\n",
    "browser = BrowserHistory()\n",
    "browser.visit(\"google.com\")\n",
    "browser.visit(\"youtube.com\")\n",
    "browser.visit(\"wikipedia.org\")\n",
    "browser.back()     # Goes to youtube.com\n",
    "browser.back()     # Goes to google.com\n",
    "browser.forward()  # Goes to youtube.com\n"
   ]
  }
 ],
 "metadata": {
  "kernelspec": {
   "display_name": "Python 3",
   "language": "python",
   "name": "python3"
  },
  "language_info": {
   "codemirror_mode": {
    "name": "ipython",
    "version": 3
   },
   "file_extension": ".py",
   "mimetype": "text/x-python",
   "name": "python",
   "nbconvert_exporter": "python",
   "pygments_lexer": "ipython3",
   "version": "3.11.9"
  }
 },
 "nbformat": 4,
 "nbformat_minor": 5
}

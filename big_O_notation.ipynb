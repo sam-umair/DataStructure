{
 "cells": [
  {
   "cell_type": "markdown",
   "id": "70f6bfa6",
   "metadata": {},
   "source": [
    "# Big O Notation"
   ]
  },
  {
   "cell_type": "markdown",
   "id": "39fdcbe6",
   "metadata": {},
   "source": [
    "### Big O Notation:\n",
    "### Big O notation is a way to measure how fast (or slow) an algorithm is as the size of the input grows.\n",
    "\n",
    "It’s like asking:\n",
    "\n",
    "\"If I give you more data, how much more time or memory will your code need?\"\n",
    "\n",
    "Simple Analogy: Making Pizzas\n",
    "Imagine you’re a pizza chef:\n",
    "\n",
    "You are the algorithm.\n",
    "\n",
    "Orders are the input\n"
   ]
  },
  {
   "cell_type": "markdown",
   "id": "93a6b544",
   "metadata": {},
   "source": [
    "#### 1- O(1) – Constant Time Complexity"
   ]
  },
  {
   "cell_type": "code",
   "execution_count": null,
   "id": "1899cfaa",
   "metadata": {},
   "outputs": [],
   "source": [
    "\n",
    "# Doesn’t matter how many orders you get, it takes the same amount of time.\n",
    "# \"You always make 1 cheese pizza, no matter what.\"\n",
    "\n",
    "def make_cheese_pizza():\n",
    "    print(\"Making a cheese pizza!\")\n",
    "    # This takes the same amount of time, no matter how many orders you get.\n",
    "    return \"Cheese Pizza\""
   ]
  },
  {
   "cell_type": "code",
   "execution_count": 2,
   "id": "fca40def",
   "metadata": {},
   "outputs": [],
   "source": [
    "def constant_time(arr):\n",
    "    return arr[5]  # Always takes the same time, no matter the array size\n"
   ]
  },
  {
   "cell_type": "markdown",
   "id": "0e200e34",
   "metadata": {},
   "source": [
    "#### 2- O(n) – Linear Time Complexity\n",
    "Time grows directly with the number of inputs."
   ]
  },
  {
   "cell_type": "code",
   "execution_count": 3,
   "id": "ebf69d91",
   "metadata": {},
   "outputs": [],
   "source": [
    "def linear_time(arr):\n",
    "    for i in arr:\n",
    "        print(i)\n",
    "    # This takes longer with larger arrays.\n",
    "    # \"You make 1 cheese pizza for each order.\""
   ]
  },
  {
   "cell_type": "markdown",
   "id": "36ed3683",
   "metadata": {},
   "source": [
    "#### 3- O(n^2) – Quadratic Time Complexity\n",
    "Time grows faster as input grows. Usually happens with nested loops."
   ]
  },
  {
   "cell_type": "code",
   "execution_count": 4,
   "id": "4bae6c1c",
   "metadata": {},
   "outputs": [],
   "source": [
    "def bubble_sort(arr):\n",
    "    for i in range(len(arr)):         # Outer loop\n",
    "        for j in range(len(arr)-1):   # Inner loop\n",
    "            if arr[j] > arr[j+1]:\n",
    "                arr[j], arr[j+1] = arr[j+1], arr[j]\n",
    "    return arr  # This takes longer with larger arrays.\n",
    "# \"You make 1 cheese pizza for each order, and you have to check each one to see if it's in the right place.\"   \n"
   ]
  },
  {
   "cell_type": "markdown",
   "id": "91fe0f7c",
   "metadata": {},
   "source": [
    "#### 4- O(log n) – Logarithmic Time Complexity\n",
    "You cut the problem in half each time (like binary search)."
   ]
  },
  {
   "cell_type": "code",
   "execution_count": 5,
   "id": "978e29c1",
   "metadata": {},
   "outputs": [],
   "source": [
    "def binary_search(arr, target):\n",
    "    low, high = 0, len(arr) - 1\n",
    "    while low <= high:\n",
    "        mid = (low + high) // 2\n",
    "        if arr[mid] == target:\n",
    "            return mid\n",
    "        elif arr[mid] < target:\n",
    "            low = mid + 1\n",
    "        else:\n",
    "            high = mid - 1\n",
    "    return -1\n",
    "# \"You make 1 cheese pizza for each order, but you only check half of them to find the right one.\"\n",
    "# This is faster than linear search for large arrays.   \n"
   ]
  },
  {
   "cell_type": "markdown",
   "id": "bd330381",
   "metadata": {},
   "source": [
    "#### 5- O(n log n) – Linearithmic Time Complexity\n",
    "Common in efficient sorting (like mergesort)."
   ]
  },
  {
   "cell_type": "code",
   "execution_count": 6,
   "id": "d31da55e",
   "metadata": {},
   "outputs": [],
   "source": [
    "def merge_sort(arr):\n",
    "    if len(arr) > 1:\n",
    "        mid = len(arr)//2\n",
    "        left = arr[:mid]\n",
    "        right = arr[mid:]\n",
    "        merge_sort(left)\n",
    "        merge_sort(right)\n",
    "        # Merge code\n",
    "        "
   ]
  },
  {
   "cell_type": "markdown",
   "id": "2d5cf977",
   "metadata": {},
   "source": [
    "6- O(2^n) – Exponential Time Complexity"
   ]
  },
  {
   "cell_type": "code",
   "execution_count": 7,
   "id": "6462db07",
   "metadata": {},
   "outputs": [],
   "source": [
    "#Fibonacci sequence (without memoization):\n",
    "\n",
    "def fibonacci(n):\n",
    "    if n <= 1:\n",
    "        return n\n",
    "    return fibonacci(n-1) + fibonacci(n-2)\n"
   ]
  },
  {
   "cell_type": "markdown",
   "id": "7587c13e",
   "metadata": {},
   "source": [
    "7- O(n!) – Factorial Time Complexity"
   ]
  },
  {
   "cell_type": "markdown",
   "id": "61927476",
   "metadata": {},
   "source": [
    "its a worst time complexity, factorial algorithms are too slow"
   ]
  },
  {
   "cell_type": "code",
   "execution_count": null,
   "id": "703be263",
   "metadata": {},
   "outputs": [],
   "source": []
  }
 ],
 "metadata": {
  "kernelspec": {
   "display_name": "Python 3",
   "language": "python",
   "name": "python3"
  },
  "language_info": {
   "codemirror_mode": {
    "name": "ipython",
    "version": 3
   },
   "file_extension": ".py",
   "mimetype": "text/x-python",
   "name": "python",
   "nbconvert_exporter": "python",
   "pygments_lexer": "ipython3",
   "version": "3.11.9"
  }
 },
 "nbformat": 4,
 "nbformat_minor": 5
}
